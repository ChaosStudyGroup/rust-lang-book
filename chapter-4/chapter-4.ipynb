{
 "cells": [
  {
   "cell_type": "markdown",
   "id": "60c8d72c-b011-4360-b368-d540b8d7361a",
   "metadata": {},
   "source": [
    "## Arrays"
   ]
  },
  {
   "cell_type": "markdown",
   "id": "38339871-7f3d-49d8-9b4f-e77f9e2a88da",
   "metadata": {},
   "source": [
    "### Creating Arrays"
   ]
  },
  {
   "cell_type": "code",
   "execution_count": 2,
   "id": "c03bfa03-ee78-4267-8d9b-582b98865f88",
   "metadata": {},
   "outputs": [
    {
     "data": {
      "text/plain": [
       "[\"Sunday\", \"Monday\", \"Tuesday\", \"Wednesday\", \"Thursday\", \"Friday\", \"Saturday\"]"
      ]
     },
     "execution_count": 2,
     "metadata": {},
     "output_type": "execute_result"
    }
   ],
   "source": [
    "let days = [\"Sunday\", \"Monday\", \"Tuesday\", \"Wednesday\", \"Thursday\", \"Friday\", \"Saturday\"];\n",
    "days"
   ]
  },
  {
   "cell_type": "code",
   "execution_count": 3,
   "id": "21af2e95-fe3e-4c88-989d-4ba92ac5b22e",
   "metadata": {},
   "outputs": [
    {
     "data": {
      "text/plain": [
       "[1, 2, 3, 4, 5]"
      ]
     },
     "execution_count": 3,
     "metadata": {},
     "output_type": "execute_result"
    }
   ],
   "source": [
    "let a: [i32; 5] = [1, 2, 3, 4, 5];\n",
    "a"
   ]
  },
  {
   "cell_type": "code",
   "execution_count": 4,
   "id": "6a938a11-c989-4556-ace8-a13a6cbcdb42",
   "metadata": {},
   "outputs": [
    {
     "data": {
      "text/plain": [
       "[0, 0, 0, 0, 0]"
      ]
     },
     "execution_count": 4,
     "metadata": {},
     "output_type": "execute_result"
    }
   ],
   "source": [
    "let zeros = [0; 5];\n",
    "zeros"
   ]
  },
  {
   "cell_type": "markdown",
   "id": "1ee276a9-c379-429a-a74d-4d836c693fc5",
   "metadata": {},
   "source": [
    "### Accessing Array Elements"
   ]
  },
  {
   "cell_type": "code",
   "execution_count": 5,
   "id": "f1d581b0-8e46-4140-b6e7-474e7cb0cb73",
   "metadata": {},
   "outputs": [
    {
     "data": {
      "text/plain": [
       "3"
      ]
     },
     "execution_count": 5,
     "metadata": {},
     "output_type": "execute_result"
    }
   ],
   "source": [
    "let numbers = [1, 2, 3, 4, 5];\n",
    "numbers[2]"
   ]
  },
  {
   "cell_type": "markdown",
   "id": "6c249b08-e7b8-4827-9952-c9b9a1048f66",
   "metadata": {},
   "source": [
    "### Modifying Array Elements"
   ]
  },
  {
   "cell_type": "code",
   "execution_count": 6,
   "id": "f2603982-adb7-4a18-90a0-85c59c3abc3f",
   "metadata": {},
   "outputs": [
    {
     "data": {
      "text/plain": [
       "[1, 10, 3, 4, 5]"
      ]
     },
     "execution_count": 6,
     "metadata": {},
     "output_type": "execute_result"
    }
   ],
   "source": [
    "let mut numbers = [1, 2, 3, 4, 5];\n",
    "numbers[1] = 10;\n",
    "numbers"
   ]
  },
  {
   "cell_type": "markdown",
   "id": "ba4dbcec-92f0-4fbf-85a3-e74d0d66b424",
   "metadata": {},
   "source": [
    "### Iterating Through Arrays"
   ]
  },
  {
   "cell_type": "code",
   "execution_count": 7,
   "id": "8b0ef968-657a-4362-bf8b-b5094306a085",
   "metadata": {},
   "outputs": [
    {
     "name": "stdout",
     "output_type": "stream",
     "text": [
      "Winter\n",
      "Spring\n",
      "Summer\n",
      "Fall\n"
     ]
    },
    {
     "data": {
      "text/plain": [
       "()"
      ]
     },
     "execution_count": 7,
     "metadata": {},
     "output_type": "execute_result"
    }
   ],
   "source": [
    "let seasons = [\"Winter\", \"Spring\", \"Summer\", \"Fall\"];\n",
    "\n",
    "// Using a for-in loop\n",
    "for season in seasons {\n",
    "    println!(\"{season}\");\n",
    "}"
   ]
  },
  {
   "cell_type": "code",
   "execution_count": 8,
   "id": "0810da26-8a43-430e-a680-05a1089b07c3",
   "metadata": {},
   "outputs": [
    {
     "name": "stdout",
     "output_type": "stream",
     "text": [
      "Winter\n",
      "Spring\n",
      "Summer\n",
      "Fall\n"
     ]
    },
    {
     "data": {
      "text/plain": [
       "()"
      ]
     },
     "execution_count": 8,
     "metadata": {},
     "output_type": "execute_result"
    }
   ],
   "source": [
    "// Using a for loop with an index\n",
    "for index in 0..seasons.len() {\n",
    "    println!(\"{}\", seasons[index]);\n",
    "}"
   ]
  },
  {
   "cell_type": "code",
   "execution_count": 9,
   "id": "fc65b806-eb79-4b59-8597-32952b7858bf",
   "metadata": {},
   "outputs": [
    {
     "name": "stdout",
     "output_type": "stream",
     "text": [
      "Winter\n",
      "Spring\n",
      "Summer\n",
      "Fall\n"
     ]
    },
    {
     "data": {
      "text/plain": [
       "()"
      ]
     },
     "execution_count": 9,
     "metadata": {},
     "output_type": "execute_result"
    }
   ],
   "source": [
    "// Using a for loop with an iterator\n",
    "for season in seasons.iter() {\n",
    "    println!(\"{}\", season);\n",
    "}"
   ]
  },
  {
   "cell_type": "markdown",
   "id": "48c89816-170c-4217-8524-d4cd209a535e",
   "metadata": {},
   "source": [
    "### Slicing Arrays"
   ]
  },
  {
   "cell_type": "code",
   "execution_count": 10,
   "id": "44c76084-a061-4cb2-8a25-caf34a77a7bb",
   "metadata": {},
   "outputs": [
    {
     "name": "stdout",
     "output_type": "stream",
     "text": [
      "[2, 3, 4]\n"
     ]
    },
    {
     "data": {
      "text/plain": [
       "()"
      ]
     },
     "execution_count": 10,
     "metadata": {},
     "output_type": "execute_result"
    }
   ],
   "source": [
    "let numbers = [1, 2, 3, 4, 5];\n",
    "{\n",
    "    let slice = &numbers[1..4];\n",
    "    println!(\"{:?}\", slice);\n",
    "}"
   ]
  },
  {
   "cell_type": "markdown",
   "id": "e1be15e8-2332-4c13-9ac3-a23c81d50c27",
   "metadata": {},
   "source": [
    "### Multi-dimensional Arrays"
   ]
  },
  {
   "cell_type": "code",
   "execution_count": 11,
   "id": "c55d0397-151c-4073-b2d6-4a967a526b6f",
   "metadata": {},
   "outputs": [
    {
     "name": "stdout",
     "output_type": "stream",
     "text": [
      "Initial Tic-Tac-Toe Board:\n",
      "  X O \n",
      "O X   \n",
      "X   O \n",
      "Updated Tic-Tac-Toe Board:\n",
      "  X O \n",
      "O X X \n",
      "X O O \n"
     ]
    },
    {
     "data": {
      "text/plain": [
       "()"
      ]
     },
     "execution_count": 11,
     "metadata": {},
     "output_type": "execute_result"
    }
   ],
   "source": [
    "fn main() {\n",
    "    // Define a 2D array for a tic-tac-toe board\n",
    "    let mut tic_tac_toe: [[char; 3]; 3] = [\n",
    "        [' ', 'X', 'O'],\n",
    "        ['O', 'X', ' '],\n",
    "        ['X', ' ', 'O']\n",
    "    ];\n",
    "\n",
    "    // Display the initial tic-tac-toe board\n",
    "    println!(\"Initial Tic-Tac-Toe Board:\");\n",
    "    print_tic_tac_toe(&tic_tac_toe);\n",
    "\n",
    "    // Update the board and display it again\n",
    "    tic_tac_toe[1][2] = 'X';\n",
    "    tic_tac_toe[2][1] = 'O';\n",
    "\n",
    "    println!(\"Updated Tic-Tac-Toe Board:\");\n",
    "    print_tic_tac_toe(&tic_tac_toe);\n",
    "}\n",
    "\n",
    "// Function to print the tic-tac-toe board\n",
    "fn print_tic_tac_toe(board: &[[char; 3]; 3]) {\n",
    "    for row in board.iter() {\n",
    "        for cell in row.iter() {\n",
    "            print!(\"{} \", cell);\n",
    "        }\n",
    "        println!();\n",
    "    }\n",
    "}\n",
    "\n",
    "main()"
   ]
  },
  {
   "cell_type": "markdown",
   "id": "990062e2-a934-4776-b582-5c32845d718b",
   "metadata": {},
   "source": [
    "### Working with Array Methods"
   ]
  },
  {
   "cell_type": "code",
   "execution_count": 12,
   "id": "04a4302a-3bf1-4a0c-9b80-8e0402522948",
   "metadata": {},
   "outputs": [
    {
     "data": {
      "text/plain": [
       "[2, 4, 6, 8, 10]"
      ]
     },
     "execution_count": 12,
     "metadata": {},
     "output_type": "execute_result"
    }
   ],
   "source": [
    "let mut numbers = [1, 2, 3, 4, 5];\n",
    "for num in numbers.iter_mut() {\n",
    "    *num *= 2;\n",
    "}\n",
    "numbers"
   ]
  },
  {
   "cell_type": "code",
   "execution_count": 13,
   "id": "0ac7e346-e8c2-4d1c-a030-f8ad0792c6b3",
   "metadata": {},
   "outputs": [
    {
     "data": {
      "text/plain": [
       "[1, 3, 4, 7, 9]"
      ]
     },
     "execution_count": 13,
     "metadata": {},
     "output_type": "execute_result"
    }
   ],
   "source": [
    "let mut unsorted = [4, 1, 7, 3, 9];\n",
    "unsorted.sort();\n",
    "unsorted"
   ]
  },
  {
   "cell_type": "markdown",
   "id": "90eaaae1-1b18-4c00-9ebf-425093bf9387",
   "metadata": {},
   "source": [
    "### Array Initialization and Default Values"
   ]
  },
  {
   "cell_type": "markdown",
   "id": "8fdd3d56-b398-43f3-9a15-f33c4374e050",
   "metadata": {},
   "source": [
    "### Initializing with Default Values"
   ]
  },
  {
   "cell_type": "code",
   "execution_count": 14,
   "id": "c8bb4de5-955b-4d45-b152-9785956af0cc",
   "metadata": {},
   "outputs": [
    {
     "data": {
      "text/plain": [
       "[0, 0, 0, 0, 0, 0, 0, 0, 0, 0]"
      ]
     },
     "execution_count": 14,
     "metadata": {},
     "output_type": "execute_result"
    }
   ],
   "source": [
    "let default_values = [0; 10];\n",
    "default_values"
   ]
  },
  {
   "cell_type": "markdown",
   "id": "eb10bda8-4d7e-40fb-9793-8fa41dcc8946",
   "metadata": {},
   "source": [
    "### Generating Patterns with Iterators"
   ]
  },
  {
   "cell_type": "code",
   "execution_count": 15,
   "id": "1566b9f5-7498-4bff-995e-ae19373bb729",
   "metadata": {},
   "outputs": [
    {
     "data": {
      "text/plain": [
       "[1, 4, 9, 16, 25]"
      ]
     },
     "execution_count": 15,
     "metadata": {},
     "output_type": "execute_result"
    }
   ],
   "source": [
    "let original = [1, 2, 3, 4, 5];\n",
    "let mut squared: [i32; 5] = [0; 5]; // Initialize an array of size 5 with zeros\n",
    "\n",
    "let _ = original\n",
    "    .iter()\n",
    "    .enumerate()\n",
    "    .map(|(index, &value)| squared[index] = value * value)\n",
    "    .collect::<Vec<_>>(); // This line is needed but doesn't change the result\n",
    "\n",
    "squared    "
   ]
  },
  {
   "cell_type": "markdown",
   "id": "1f812231-8ad5-4568-ac47-07c04298d820",
   "metadata": {},
   "source": [
    "### Initializing with Computed Values"
   ]
  },
  {
   "cell_type": "code",
   "execution_count": 16,
   "id": "f7f6af1d-acbe-4359-9ef3-6b66c21ff698",
   "metadata": {},
   "outputs": [
    {
     "data": {
      "text/plain": [
       "[1, 1, 2, 6, 24, 120, 720, 5040, 40320, 362880]"
      ]
     },
     "execution_count": 16,
     "metadata": {},
     "output_type": "execute_result"
    }
   ],
   "source": [
    "let mut factorials = [1; 10];\n",
    "\n",
    "for i in 1..10 {\n",
    "    factorials[i] = factorials[i - 1] * (i as i32);\n",
    "}\n",
    "\n",
    "factorials"
   ]
  },
  {
   "cell_type": "markdown",
   "id": "138fe790-46d0-4283-ac70-2c9995ac30bf",
   "metadata": {},
   "source": [
    "### Array Length and Bounds Checking"
   ]
  },
  {
   "cell_type": "markdown",
   "id": "2c5f5e65-407f-4aa9-bb8b-ee92f28d930b",
   "metadata": {},
   "source": [
    "### Obtaining the Length"
   ]
  },
  {
   "cell_type": "code",
   "execution_count": 17,
   "id": "270d125e-8040-47d5-bece-4419f9756f23",
   "metadata": {},
   "outputs": [
    {
     "data": {
      "text/plain": [
       "5"
      ]
     },
     "execution_count": 17,
     "metadata": {},
     "output_type": "execute_result"
    }
   ],
   "source": [
    "let numbers = [1, 2, 3, 4, 5];\n",
    "let length = numbers.len();\n",
    "length"
   ]
  },
  {
   "cell_type": "markdown",
   "id": "0e9c1838-aad0-4549-b756-353eddb3dd5e",
   "metadata": {},
   "source": [
    "### Bounds Checking"
   ]
  },
  {
   "cell_type": "code",
   "execution_count": 18,
   "id": "7008ed83-17ff-49da-8b2f-caafc2a110e5",
   "metadata": {},
   "outputs": [
    {
     "ename": "Error",
     "evalue": "this operation will panic at runtime",
     "output_type": "error",
     "traceback": [
      "\u001b[31m[unconditional_panic] Error:\u001b[0m this operation will panic at runtime",
      "   \u001b[38;5;246m╭\u001b[0m\u001b[38;5;246m─\u001b[0m\u001b[38;5;246m[\u001b[0mcommand_18:1:1\u001b[38;5;246m]\u001b[0m",
      "   \u001b[38;5;246m│\u001b[0m",
      " \u001b[38;5;246m3 │\u001b[0m \u001b[38;5;249ml\u001b[0m\u001b[38;5;249me\u001b[0m\u001b[38;5;249mt\u001b[0m\u001b[38;5;249m \u001b[0m\u001b[38;5;249mv\u001b[0m\u001b[38;5;249ma\u001b[0m\u001b[38;5;249ml\u001b[0m\u001b[38;5;249mu\u001b[0m\u001b[38;5;249me\u001b[0m\u001b[38;5;249m \u001b[0m\u001b[38;5;249m=\u001b[0m\u001b[38;5;249m \u001b[0m\u001b[38;5;54mn\u001b[0m\u001b[38;5;54mu\u001b[0m\u001b[38;5;54mm\u001b[0m\u001b[38;5;54mb\u001b[0m\u001b[38;5;54me\u001b[0m\u001b[38;5;54mr\u001b[0m\u001b[38;5;54ms\u001b[0m\u001b[38;5;54m[\u001b[0m\u001b[38;5;54mi\u001b[0m\u001b[38;5;54mn\u001b[0m\u001b[38;5;54md\u001b[0m\u001b[38;5;54me\u001b[0m\u001b[38;5;54mx\u001b[0m\u001b[38;5;54m]\u001b[0m\u001b[38;5;249m;\u001b[0m",
      " \u001b[38;5;240m  │\u001b[0m             \u001b[38;5;54m─\u001b[0m\u001b[38;5;54m─\u001b[0m\u001b[38;5;54m─\u001b[0m\u001b[38;5;54m─\u001b[0m\u001b[38;5;54m─\u001b[0m\u001b[38;5;54m─\u001b[0m\u001b[38;5;54m─\u001b[0m\u001b[38;5;54m┬\u001b[0m\u001b[38;5;54m─\u001b[0m\u001b[38;5;54m─\u001b[0m\u001b[38;5;54m─\u001b[0m\u001b[38;5;54m─\u001b[0m\u001b[38;5;54m─\u001b[0m\u001b[38;5;54m─\u001b[0m  ",
      " \u001b[38;5;240m  │\u001b[0m                    \u001b[38;5;54m╰\u001b[0m\u001b[38;5;54m─\u001b[0m\u001b[38;5;54m─\u001b[0m\u001b[38;5;54m─\u001b[0m\u001b[38;5;54m─\u001b[0m\u001b[38;5;54m─\u001b[0m\u001b[38;5;54m─\u001b[0m\u001b[38;5;54m─\u001b[0m\u001b[38;5;54m─\u001b[0m index out of bounds: the length is 5 but the index is 10",
      "\u001b[38;5;246m───╯\u001b[0m"
     ]
    }
   ],
   "source": [
    "let numbers = [1, 2, 3, 4, 5];\n",
    "let index = 10;\n",
    "let value = numbers[index];\n",
    "value"
   ]
  },
  {
   "cell_type": "markdown",
   "id": "8bc0873b-a831-4eab-863e-0f7a87a13b60",
   "metadata": {},
   "source": [
    "###  Array Copy and Clone"
   ]
  },
  {
   "cell_type": "markdown",
   "id": "08b5b4e3-c4e2-4455-8360-ab783eb4d204",
   "metadata": {},
   "source": [
    "### Copying Arrays"
   ]
  },
  {
   "cell_type": "code",
   "execution_count": 19,
   "id": "cbe7b67f-c4d0-488a-af82-0b91b34c5661",
   "metadata": {},
   "outputs": [
    {
     "data": {
      "text/plain": [
       "[1, 2, 3]"
      ]
     },
     "execution_count": 19,
     "metadata": {},
     "output_type": "execute_result"
    }
   ],
   "source": [
    "let original = [1, 2, 3];\n",
    "let copied = original;\n",
    "copied"
   ]
  },
  {
   "cell_type": "markdown",
   "id": "daa75af8-2f0b-45f5-aa3b-b6fc8c400103",
   "metadata": {},
   "source": [
    "### Cloning Arrays"
   ]
  },
  {
   "cell_type": "code",
   "execution_count": 20,
   "id": "16dc2164-29d9-49a6-9c9b-b907f62be6e8",
   "metadata": {},
   "outputs": [
    {
     "data": {
      "text/plain": [
       "[\"one\", \"two\", \"three\"]"
      ]
     },
     "execution_count": 20,
     "metadata": {},
     "output_type": "execute_result"
    }
   ],
   "source": [
    "let original = [\"one\", \"two\", \"three\"];\n",
    "let cloned = original.to_owned();\n",
    "cloned"
   ]
  },
  {
   "cell_type": "markdown",
   "id": "746968df-697c-47a2-a01d-3b71b98f528b",
   "metadata": {},
   "source": [
    "---\n",
    "---"
   ]
  },
  {
   "cell_type": "markdown",
   "id": "d832f0ad-f0d7-42bb-b96e-2d4fd66ef135",
   "metadata": {},
   "source": [
    "## Vectors"
   ]
  },
  {
   "cell_type": "markdown",
   "id": "af9aff09-e0cc-4c0b-b0a3-32b6d69bfb0f",
   "metadata": {},
   "source": [
    "### Creating Vectors"
   ]
  },
  {
   "cell_type": "code",
   "execution_count": 21,
   "id": "75833ede-8e81-4ec6-ba7c-2325f2b3260c",
   "metadata": {},
   "outputs": [
    {
     "data": {
      "text/plain": [
       "[]"
      ]
     },
     "execution_count": 21,
     "metadata": {},
     "output_type": "execute_result"
    }
   ],
   "source": [
    "let v: Vec<i32> = Vec::new();\n",
    "v"
   ]
  },
  {
   "cell_type": "code",
   "execution_count": 22,
   "id": "ea1e7251-32c0-484f-8851-0aaf3d8ac5ba",
   "metadata": {},
   "outputs": [
    {
     "data": {
      "text/plain": [
       "[1, 2, 3, 4, 5]"
      ]
     },
     "execution_count": 22,
     "metadata": {},
     "output_type": "execute_result"
    }
   ],
   "source": [
    "let numbers = vec![1, 2, 3, 4, 5];\n",
    "numbers"
   ]
  },
  {
   "cell_type": "markdown",
   "id": "d572be81-6780-407a-ae7b-c4e40e722ca5",
   "metadata": {},
   "source": [
    "### Accessing and Modifying Elements"
   ]
  },
  {
   "cell_type": "code",
   "execution_count": 23,
   "id": "6f255b85-9547-40b4-95e4-f83e57a4783b",
   "metadata": {},
   "outputs": [
    {
     "name": "stdout",
     "output_type": "stream",
     "text": [
      "The second element is banana\n"
     ]
    },
    {
     "data": {
      "text/plain": [
       "()"
      ]
     },
     "execution_count": 23,
     "metadata": {},
     "output_type": "execute_result"
    }
   ],
   "source": [
    "{\n",
    "    let fruits = vec![\"apple\", \"banana\", \"cherry\", \"date\"];\n",
    "\n",
    "    // Accessing the second element using indexing\n",
    "    let second = &fruits[1];\n",
    "    println!(\"The second element is {}\", second)\n",
    "}"
   ]
  },
  {
   "cell_type": "code",
   "execution_count": 24,
   "id": "711caed5-af2e-4d04-8274-8671073cd80e",
   "metadata": {},
   "outputs": [
    {
     "name": "stdout",
     "output_type": "stream",
     "text": [
      "The second element is banana\n"
     ]
    },
    {
     "data": {
      "text/plain": [
       "()"
      ]
     },
     "execution_count": 24,
     "metadata": {},
     "output_type": "execute_result"
    }
   ],
   "source": [
    "{\n",
    "    let fruits = vec![\"apple\", \"banana\", \"cherry\", \"date\"];\n",
    "\n",
    "    // Safely accessing the second element using get\n",
    "    let second = fruits.get(1); // <1>\n",
    "    match second {\n",
    "        Some(fruit) => println!(\"The second element is {}\", fruit),\n",
    "        None => println!(\"Element not found\"),\n",
    "    }\n",
    "}"
   ]
  },
  {
   "cell_type": "markdown",
   "id": "7839fe7c-3f13-4c1b-843c-34a9c41425ee",
   "metadata": {},
   "source": [
    "### Modifying Vectors"
   ]
  },
  {
   "cell_type": "markdown",
   "id": "f087ca8e-6001-449c-8245-aa8bb337ffd7",
   "metadata": {},
   "source": [
    "### Adding Elements"
   ]
  },
  {
   "cell_type": "code",
   "execution_count": 25,
   "id": "d90ec402-f713-4a70-bcd9-7fbf3c73dff7",
   "metadata": {},
   "outputs": [
    {
     "data": {
      "text/plain": [
       "[\"apple\", \"banana\", \"cherry\"]"
      ]
     },
     "execution_count": 25,
     "metadata": {},
     "output_type": "execute_result"
    }
   ],
   "source": [
    "let mut fruits = vec![\"apple\", \"banana\"];\n",
    "\n",
    "// Adding \"cherry\" to the end of the vector\n",
    "fruits.push(\"cherry\");\n",
    "fruits"
   ]
  },
  {
   "cell_type": "markdown",
   "id": "58720c81-3887-4ba5-971b-c7cccba67a83",
   "metadata": {},
   "source": [
    "### Updating Elements"
   ]
  },
  {
   "cell_type": "code",
   "execution_count": 26,
   "id": "bbabff4a-8386-4be5-a052-3721224d563e",
   "metadata": {},
   "outputs": [
    {
     "data": {
      "text/plain": [
       "[\"apple\", \"pear\"]"
      ]
     },
     "execution_count": 26,
     "metadata": {},
     "output_type": "execute_result"
    }
   ],
   "source": [
    "let mut fruits = vec![\"apple\", \"banana\"];\n",
    "\n",
    "// Updating the second element to \"pear\"\n",
    "fruits[1] = \"pear\";\n",
    "fruits"
   ]
  },
  {
   "cell_type": "markdown",
   "id": "469e97b4-baa8-429c-8fbd-1279a2ed6a52",
   "metadata": {},
   "source": [
    "### Removing Elements"
   ]
  },
  {
   "cell_type": "code",
   "execution_count": 27,
   "id": "1a867bbd-4dcb-49fb-9307-cdff2a5e125b",
   "metadata": {},
   "outputs": [
    {
     "data": {
      "text/plain": [
       "Some(\"cherry\")"
      ]
     },
     "execution_count": 27,
     "metadata": {},
     "output_type": "execute_result"
    }
   ],
   "source": [
    "let mut fruits = vec![\"apple\", \"banana\", \"cherry\"];\n",
    "\n",
    "// Removing and storing the last element\n",
    "let removed_fruit = fruits.pop();\n",
    "removed_fruit"
   ]
  },
  {
   "cell_type": "code",
   "execution_count": 28,
   "id": "c7135c0d-66b3-4ec4-988a-892f0e8d5120",
   "metadata": {},
   "outputs": [
    {
     "data": {
      "text/plain": [
       "\"banana\""
      ]
     },
     "execution_count": 28,
     "metadata": {},
     "output_type": "execute_result"
    }
   ],
   "source": [
    "let mut fruits = vec![\"apple\", \"banana\", \"cherry\"];\n",
    "\n",
    "// Removing the element at index 1 (\"banana\")\n",
    "let removed_fruit = fruits.remove(1);\n",
    "removed_fruit"
   ]
  },
  {
   "cell_type": "markdown",
   "id": "74c37390-1fb6-4679-9b96-315be9fc0650",
   "metadata": {},
   "source": [
    "### Iterating over Vectors"
   ]
  },
  {
   "cell_type": "markdown",
   "id": "0b674e1b-1576-4153-9611-e14575ae8117",
   "metadata": {},
   "source": [
    "### Using a `for` Loop"
   ]
  },
  {
   "cell_type": "code",
   "execution_count": 29,
   "id": "889085cd-dde4-40c4-9ec6-934a82680785",
   "metadata": {},
   "outputs": [
    {
     "name": "stdout",
     "output_type": "stream",
     "text": [
      "1\n",
      "2\n",
      "3\n",
      "4\n",
      "5\n"
     ]
    },
    {
     "data": {
      "text/plain": [
       "()"
      ]
     },
     "execution_count": 29,
     "metadata": {},
     "output_type": "execute_result"
    }
   ],
   "source": [
    "let numbers = vec![1, 2, 3, 4, 5];\n",
    "for number in &numbers {\n",
    "    println!(\"{}\", number);\n",
    "}"
   ]
  },
  {
   "cell_type": "markdown",
   "id": "61eefc44-a190-410f-8936-c52fbbe3068d",
   "metadata": {},
   "source": [
    "### Using `iter_mut` for Mutable Iteration"
   ]
  },
  {
   "cell_type": "code",
   "execution_count": 30,
   "id": "a29bea5f-c2c0-41e7-a61c-a2de290b98ed",
   "metadata": {},
   "outputs": [
    {
     "data": {
      "text/plain": [
       "[11, 12, 13, 14, 15, 16]"
      ]
     },
     "execution_count": 30,
     "metadata": {},
     "output_type": "execute_result"
    }
   ],
   "source": [
    "let mut numbers = vec![10, 11, 12, 13, 14, 15];\n",
    "for number in numbers.iter_mut() {\n",
    "    *number += 1; // Add 1 to each element\n",
    "}\n",
    "numbers"
   ]
  },
  {
   "cell_type": "markdown",
   "id": "24e2704f-c3fa-4da4-9193-6d4a62ccfab7",
   "metadata": {},
   "source": [
    "### Using `enumerate` for Index and Value"
   ]
  },
  {
   "cell_type": "code",
   "execution_count": 31,
   "id": "c1c69d9f-1d4e-450e-8ba6-7508d02194b3",
   "metadata": {},
   "outputs": [
    {
     "name": "stdout",
     "output_type": "stream",
     "text": [
      "Index 0: apple\n",
      "Index 1: banana\n",
      "Index 2: cherry\n"
     ]
    },
    {
     "data": {
      "text/plain": [
       "()"
      ]
     },
     "execution_count": 31,
     "metadata": {},
     "output_type": "execute_result"
    }
   ],
   "source": [
    "let fruits = vec![\"apple\", \"banana\", \"cherry\"];\n",
    "for (index, fruit) in fruits.iter().enumerate() {\n",
    "    println!(\"Index {}: {}\", index, fruit);\n",
    "}"
   ]
  },
  {
   "cell_type": "markdown",
   "id": "d7a66963-dcfe-4506-a4bb-658d2cb54bc8",
   "metadata": {},
   "source": [
    "---\n",
    "---"
   ]
  },
  {
   "cell_type": "markdown",
   "id": "a12c4670-b687-40f4-999b-e4a42884d2b5",
   "metadata": {},
   "source": [
    "## Tuples"
   ]
  },
  {
   "cell_type": "markdown",
   "id": "2d35d827-9da4-4dd8-860b-bb163ceb4ea9",
   "metadata": {},
   "source": [
    "### Creating and Initializing Tuples"
   ]
  },
  {
   "cell_type": "code",
   "execution_count": 32,
   "id": "8796d201-9b01-4e6f-a757-0b83d9a57d73",
   "metadata": {},
   "outputs": [],
   "source": [
    "// Creating and initializing a tuple\n",
    "let person = (\"Mahmoud\", 25, true);\n",
    "\n",
    "// Creating an empty tuple (unit tuple)\n",
    "let empty: () = ();\n",
    "\n",
    "// Type annotation for an empty tuple\n",
    "let another_empty: () = ();"
   ]
  },
  {
   "cell_type": "markdown",
   "id": "36ea9872-94d6-472d-8f5e-a8360d701f56",
   "metadata": {},
   "source": [
    "### Accessing Tuple Elements"
   ]
  },
  {
   "cell_type": "code",
   "execution_count": 33,
   "id": "51ca7fcf-115b-4cd5-b704-354e8641d1af",
   "metadata": {},
   "outputs": [],
   "source": [
    "let person = (\"Mahmoud\", 25, true); // <1>\n",
    "\n",
    "// Accessing the first element of the tuple\n",
    "let name = person.0; // <2>\n",
    "\n",
    "// Accessing the second element\n",
    "let age = person.1; // <3>\n",
    "\n",
    "// Accessing the third element\n",
    "let employed = person.2; // <4>"
   ]
  },
  {
   "cell_type": "markdown",
   "id": "ce815e85-66fa-4b45-ab65-58a08b8cb95a",
   "metadata": {},
   "source": [
    "### Destructuring Tuples"
   ]
  },
  {
   "cell_type": "code",
   "execution_count": 34,
   "id": "361f2b9f-bc79-4abe-8f04-1bff4c8aaae7",
   "metadata": {},
   "outputs": [
    {
     "name": "stdout",
     "output_type": "stream",
     "text": [
      "Mahmoud is 25 years old and employed.\n"
     ]
    }
   ],
   "source": [
    "let person = (\"Mahmoud\", 25, true);\n",
    "\n",
    "// Destructuring the tuple into variables\n",
    "let (name, age, employed) = person;\n",
    "println!(\"{} is {} years old and employed.\", name, age);"
   ]
  },
  {
   "cell_type": "markdown",
   "id": "66245d23-cae6-46c1-8e75-7b8fed535a8f",
   "metadata": {},
   "source": [
    "### Tuple Patterns and Advanced Usage"
   ]
  },
  {
   "cell_type": "code",
   "execution_count": 35,
   "id": "a1c220b2-50a6-447a-9e5d-3abc5d4f235d",
   "metadata": {},
   "outputs": [
    {
     "name": "stdout",
     "output_type": "stream",
     "text": [
      "Mahmoud is 25 years old and employed.\n"
     ]
    },
    {
     "data": {
      "text/plain": [
       "()"
      ]
     },
     "execution_count": 35,
     "metadata": {},
     "output_type": "execute_result"
    }
   ],
   "source": [
    "let person = (\"Mahmoud\", 25, true);\n",
    "\n",
    "// Using a tuple pattern to match and destructure\n",
    "match person {\n",
    "    (name, age, true) => println!(\"{} is {} years old and employed.\", name, age),\n",
    "    (name, age, false) => println!(\"{} is {} years old and not employed.\", name, age),\n",
    "    _ => println!(\"Unknown employment status.\"),\n",
    "}"
   ]
  },
  {
   "cell_type": "markdown",
   "id": "a58b3075-a372-460a-86df-c146723a5ffe",
   "metadata": {},
   "source": [
    "### Real-World Use Cases"
   ]
  },
  {
   "cell_type": "code",
   "execution_count": 36,
   "id": "d8b4fcbe-9ca6-4a74-80fd-c27a9b383df6",
   "metadata": {},
   "outputs": [
    {
     "name": "stdout",
     "output_type": "stream",
     "text": [
      "Distance from the origin: 5\n"
     ]
    }
   ],
   "source": [
    "let point: (f64, f64) = (3.0, 4.0); // <12>\n",
    "\n",
    "// Calculate distance from the origin\n",
    "let distance = (point.0.powi(2) + point.1.powi(2)).sqrt();\n",
    "println!(\"Distance from the origin: {}\", distance);"
   ]
  },
  {
   "cell_type": "markdown",
   "id": "7e86147b-5a60-4c0b-af0e-92141cda6236",
   "metadata": {},
   "source": [
    "### Error Handling with Result Tuples"
   ]
  },
  {
   "cell_type": "code",
   "execution_count": 37,
   "id": "d2a7acc8-dd5d-4c44-92e4-832922d19c95",
   "metadata": {},
   "outputs": [
    {
     "data": {
      "text/plain": [
       "Err(\"Division by zero\")"
      ]
     },
     "execution_count": 37,
     "metadata": {},
     "output_type": "execute_result"
    }
   ],
   "source": [
    "fn divide_with_remainder(dividend: i32, divisor: i32) -> Result<(i32, i32), String> {\n",
    "    if divisor == 0 {\n",
    "        return Err(\"Division by zero\".to_string());\n",
    "    }\n",
    "\n",
    "    let quotient = dividend / divisor;\n",
    "    let remainder = dividend % divisor;\n",
    "\n",
    "    Ok((quotient, remainder))\n",
    "}\n",
    "\n",
    "divide_with_remainder(32, 0)"
   ]
  },
  {
   "cell_type": "markdown",
   "id": "a90fbafa-de1f-4ea2-b506-af93479a936b",
   "metadata": {},
   "source": [
    "### Tuples in Pattern Matching"
   ]
  },
  {
   "cell_type": "markdown",
   "id": "4910081c-be03-415d-9fa9-f58096d6add0",
   "metadata": {},
   "source": [
    "### Matching Tuples with Patterns"
   ]
  },
  {
   "cell_type": "code",
   "execution_count": 38,
   "id": "1bee9626-b1ad-468a-b7d7-2a53001ef747",
   "metadata": {},
   "outputs": [
    {
     "name": "stdout",
     "output_type": "stream",
     "text": [
      "The point is at coordinates (3, 4).\n"
     ]
    },
    {
     "data": {
      "text/plain": [
       "()"
      ]
     },
     "execution_count": 38,
     "metadata": {},
     "output_type": "execute_result"
    }
   ],
   "source": [
    "let coordinates = (3, 4);\n",
    "\n",
    "match coordinates {\n",
    "    (0, 0) => println!(\"The point is at the origin.\"),\n",
    "    (x, 0) => println!(\"The point is on the x-axis at x = {}.\", x),\n",
    "    (0, y) => println!(\"The point is on the y-axis at y = {}.\", y),\n",
    "    (x, y) => println!(\"The point is at coordinates ({}, {}).\", x, y),\n",
    "}"
   ]
  },
  {
   "cell_type": "markdown",
   "id": "c7057b48-da7c-4e2b-b793-0df002a8ed36",
   "metadata": {},
   "source": [
    "### Ignoring Tuple Elements"
   ]
  },
  {
   "cell_type": "code",
   "execution_count": 39,
   "id": "5fc55e38-d986-4b39-8c00-88f477323b4f",
   "metadata": {},
   "outputs": [
    {
     "name": "stdout",
     "output_type": "stream",
     "text": [
      "Mahmoud is a student majoring in Computer Science.\n"
     ]
    },
    {
     "data": {
      "text/plain": [
       "()"
      ]
     },
     "execution_count": 39,
     "metadata": {},
     "output_type": "execute_result"
    }
   ],
   "source": [
    "let student = (\"Mahmoud\", 25, \"Computer Science\"); // <14>\n",
    "\n",
    "match student {\n",
    "    (name, _, major) => println!(\"{} is a student majoring in {}.\", name, major),\n",
    "}"
   ]
  },
  {
   "cell_type": "markdown",
   "id": "fa9335a0-a5f4-446f-a7da-0ef39dc73a54",
   "metadata": {},
   "source": [
    "### Nested Tuples and Patterns"
   ]
  },
  {
   "cell_type": "code",
   "execution_count": 40,
   "id": "3a07c495-9157-402f-b85b-2a872de8ed35",
   "metadata": {},
   "outputs": [
    {
     "name": "stdout",
     "output_type": "stream",
     "text": [
      "Name: Mahmoud Harmouch\n",
      "Age: 25\n"
     ]
    },
    {
     "data": {
      "text/plain": [
       "()"
      ]
     },
     "execution_count": 40,
     "metadata": {},
     "output_type": "execute_result"
    }
   ],
   "source": [
    "let person = ((\"Mahmoud\", \"Harmouch\"), 25); // <15>\n",
    "\n",
    "match person {\n",
    "    ((first_name, last_name), age) => {\n",
    "        println!(\"Name: {} {}\", first_name, last_name);\n",
    "        println!(\"Age: {}\", age);\n",
    "    },\n",
    "}"
   ]
  },
  {
   "cell_type": "markdown",
   "id": "5e81cedf-48de-457b-92ce-be59824ee414",
   "metadata": {},
   "source": [
    "### Tuple Ownership and Borrowing"
   ]
  },
  {
   "cell_type": "markdown",
   "id": "d5b0a50e-0caa-49c2-b309-076fe6f12440",
   "metadata": {},
   "source": [
    "### Tuple Ownership"
   ]
  },
  {
   "cell_type": "code",
   "execution_count": 41,
   "id": "948d9f4f-9c26-469e-94bc-aacb3b68923a",
   "metadata": {},
   "outputs": [
    {
     "ename": "Error",
     "evalue": "borrow of moved value: `original_tuple`",
     "output_type": "error",
     "traceback": [
      "\u001b[31m[E0382] Error:\u001b[0m borrow of moved value: `original_tuple`",
      "   \u001b[38;5;246m╭\u001b[0m\u001b[38;5;246m─\u001b[0m\u001b[38;5;246m[\u001b[0mcommand_41:1:1\u001b[38;5;246m]\u001b[0m",
      "   \u001b[38;5;246m│\u001b[0m",
      " \u001b[38;5;246m1 │\u001b[0m \u001b[38;5;249ml\u001b[0m\u001b[38;5;249me\u001b[0m\u001b[38;5;249mt\u001b[0m\u001b[38;5;249m \u001b[0m\u001b[38;5;100mo\u001b[0m\u001b[38;5;100mr\u001b[0m\u001b[38;5;100mi\u001b[0m\u001b[38;5;100mg\u001b[0m\u001b[38;5;100mi\u001b[0m\u001b[38;5;100mn\u001b[0m\u001b[38;5;100ma\u001b[0m\u001b[38;5;100ml\u001b[0m\u001b[38;5;100m_\u001b[0m\u001b[38;5;100mt\u001b[0m\u001b[38;5;100mu\u001b[0m\u001b[38;5;100mp\u001b[0m\u001b[38;5;100ml\u001b[0m\u001b[38;5;100me\u001b[0m\u001b[38;5;249m \u001b[0m\u001b[38;5;249m=\u001b[0m\u001b[38;5;249m \u001b[0m\u001b[38;5;249m(\u001b[0m\u001b[38;5;249mS\u001b[0m\u001b[38;5;249mt\u001b[0m\u001b[38;5;249mr\u001b[0m\u001b[38;5;249mi\u001b[0m\u001b[38;5;249mn\u001b[0m\u001b[38;5;249mg\u001b[0m\u001b[38;5;249m:\u001b[0m\u001b[38;5;249m:\u001b[0m\u001b[38;5;249mf\u001b[0m\u001b[38;5;249mr\u001b[0m\u001b[38;5;249mo\u001b[0m\u001b[38;5;249mm\u001b[0m\u001b[38;5;249m(\u001b[0m\u001b[38;5;249m\"\u001b[0m\u001b[38;5;249mH\u001b[0m\u001b[38;5;249me\u001b[0m\u001b[38;5;249ml\u001b[0m\u001b[38;5;249ml\u001b[0m\u001b[38;5;249mo\u001b[0m\u001b[38;5;249m\"\u001b[0m\u001b[38;5;249m)\u001b[0m\u001b[38;5;249m,\u001b[0m\u001b[38;5;249m \u001b[0m\u001b[38;5;249mS\u001b[0m\u001b[38;5;249mt\u001b[0m\u001b[38;5;249mr\u001b[0m\u001b[38;5;249mi\u001b[0m\u001b[38;5;249mn\u001b[0m\u001b[38;5;249mg\u001b[0m\u001b[38;5;249m:\u001b[0m\u001b[38;5;249m:\u001b[0m\u001b[38;5;249mf\u001b[0m\u001b[38;5;249mr\u001b[0m\u001b[38;5;249mo\u001b[0m\u001b[38;5;249mm\u001b[0m\u001b[38;5;249m(\u001b[0m\u001b[38;5;249m\"\u001b[0m\u001b[38;5;249mW\u001b[0m\u001b[38;5;249mo\u001b[0m\u001b[38;5;249mr\u001b[0m\u001b[38;5;249ml\u001b[0m\u001b[38;5;249md\u001b[0m\u001b[38;5;249m\"\u001b[0m\u001b[38;5;249m)\u001b[0m\u001b[38;5;249m)\u001b[0m\u001b[38;5;249m;\u001b[0m",
      " \u001b[38;5;240m  │\u001b[0m     \u001b[38;5;100m─\u001b[0m\u001b[38;5;100m─\u001b[0m\u001b[38;5;100m─\u001b[0m\u001b[38;5;100m─\u001b[0m\u001b[38;5;100m─\u001b[0m\u001b[38;5;100m─\u001b[0m\u001b[38;5;100m─\u001b[0m\u001b[38;5;100m┬\u001b[0m\u001b[38;5;100m─\u001b[0m\u001b[38;5;100m─\u001b[0m\u001b[38;5;100m─\u001b[0m\u001b[38;5;100m─\u001b[0m\u001b[38;5;100m─\u001b[0m\u001b[38;5;100m─\u001b[0m  ",
      " \u001b[38;5;240m  │\u001b[0m            \u001b[38;5;100m╰\u001b[0m\u001b[38;5;100m─\u001b[0m\u001b[38;5;100m─\u001b[0m\u001b[38;5;100m─\u001b[0m\u001b[38;5;100m─\u001b[0m\u001b[38;5;100m─\u001b[0m\u001b[38;5;100m─\u001b[0m\u001b[38;5;100m─\u001b[0m\u001b[38;5;100m─\u001b[0m move occurs because `original_tuple` has type `(String, String)`, which does not implement the `Copy` trait",
      " \u001b[38;5;246m2 │\u001b[0m \u001b[38;5;249ml\u001b[0m\u001b[38;5;249me\u001b[0m\u001b[38;5;249mt\u001b[0m\u001b[38;5;249m \u001b[0m\u001b[38;5;249mn\u001b[0m\u001b[38;5;249me\u001b[0m\u001b[38;5;249mw\u001b[0m\u001b[38;5;249m_\u001b[0m\u001b[38;5;249mt\u001b[0m\u001b[38;5;249mu\u001b[0m\u001b[38;5;249mp\u001b[0m\u001b[38;5;249ml\u001b[0m\u001b[38;5;249me\u001b[0m\u001b[38;5;249m \u001b[0m\u001b[38;5;249m=\u001b[0m\u001b[38;5;249m \u001b[0m\u001b[38;5;54mo\u001b[0m\u001b[38;5;54mr\u001b[0m\u001b[38;5;54mi\u001b[0m\u001b[38;5;54mg\u001b[0m\u001b[38;5;54mi\u001b[0m\u001b[38;5;54mn\u001b[0m\u001b[38;5;54ma\u001b[0m\u001b[38;5;54ml\u001b[0m\u001b[38;5;54m_\u001b[0m\u001b[38;5;54mt\u001b[0m\u001b[38;5;54mu\u001b[0m\u001b[38;5;54mp\u001b[0m\u001b[38;5;54ml\u001b[0m\u001b[38;5;54me\u001b[0m\u001b[38;5;249m;\u001b[0m",
      " \u001b[38;5;240m  │\u001b[0m                 \u001b[38;5;54m─\u001b[0m\u001b[38;5;54m─\u001b[0m\u001b[38;5;54m─\u001b[0m\u001b[38;5;54m─\u001b[0m\u001b[38;5;54m─\u001b[0m\u001b[38;5;54m─\u001b[0m\u001b[38;5;54m─\u001b[0m\u001b[38;5;54m┬\u001b[0m\u001b[38;5;54m─\u001b[0m\u001b[38;5;54m─\u001b[0m\u001b[38;5;54m─\u001b[0m\u001b[38;5;54m─\u001b[0m\u001b[38;5;54m─\u001b[0m\u001b[38;5;54m─\u001b[0m\u001b[38;5;68m│\u001b[0m ",
      " \u001b[38;5;240m  │\u001b[0m                        \u001b[38;5;54m╰\u001b[0m\u001b[38;5;54m─\u001b[0m\u001b[38;5;54m─\u001b[0m\u001b[38;5;54m─\u001b[0m\u001b[38;5;54m─\u001b[0m\u001b[38;5;54m─\u001b[0m\u001b[38;5;54m─\u001b[0m\u001b[38;5;54m─\u001b[0m\u001b[38;5;54m─\u001b[0m value moved here",
      " \u001b[38;5;240m  │\u001b[0m                               \u001b[38;5;68m│\u001b[0m ",
      " \u001b[38;5;240m  │\u001b[0m                               \u001b[38;5;68m╰\u001b[0m\u001b[38;5;68m─\u001b[0m help: consider cloning the value if the performance cost is acceptable: `.clone()`",
      "\u001b[38;5;246m───╯\u001b[0m"
     ]
    }
   ],
   "source": [
    "let original_tuple = (String::from(\"Hello\"), String::from(\"World\"));\n",
    "let new_tuple = original_tuple;\n",
    "\n",
    "// Attempting to use the original tuple causes a compilation error\n",
    "original_tuple"
   ]
  },
  {
   "cell_type": "markdown",
   "id": "f16220eb-fdfd-4df2-bdb9-ee091891d9c7",
   "metadata": {},
   "source": [
    "### Borrowing Tuples"
   ]
  },
  {
   "cell_type": "code",
   "execution_count": 42,
   "id": "7954ae8f-2490-4502-9da6-b0d213e47808",
   "metadata": {},
   "outputs": [
    {
     "name": "stdout",
     "output_type": "stream",
     "text": [
      "Coordinates: (5, 7)\n",
      "Point coordinates: (5, 7)\n"
     ]
    }
   ],
   "source": [
    "fn print_coordinates(coordinates: &(i32, i32)) {\n",
    "    println!(\"Coordinates: {:?}\", coordinates);\n",
    "}\n",
    "\n",
    "let point = (5, 7);\n",
    "\n",
    "// Borrowing a reference to the point tuple\n",
    "print_coordinates(&point);\n",
    "\n",
    "// Point tuple remains usable\n",
    "println!(\"Point coordinates: {:?}\", point);"
   ]
  },
  {
   "cell_type": "markdown",
   "id": "4f04cde6-e6f9-4644-b07c-063a02bc6760",
   "metadata": {},
   "source": [
    "### Tuple Slicing and the Spread Operator"
   ]
  },
  {
   "cell_type": "markdown",
   "id": "db90fc09-e541-4610-a604-dbb25dcec0ef",
   "metadata": {},
   "source": [
    "### Creating Tuple Slices"
   ]
  },
  {
   "cell_type": "code",
   "execution_count": 43,
   "id": "7959d1da-faa3-4e98-838b-a0000ed4fa8f",
   "metadata": {},
   "outputs": [
    {
     "data": {
      "text/plain": [
       "2..5"
      ]
     },
     "execution_count": 43,
     "metadata": {},
     "output_type": "execute_result"
    }
   ],
   "source": [
    "let numbers = (1, 2, 3, 4, 5);\n",
    "\n",
    "// Creating a tuple slice with elements 2, 3, and 4\n",
    "let slice = numbers.1..numbers.4;\n",
    "\n",
    "slice"
   ]
  },
  {
   "cell_type": "markdown",
   "id": "0ee7c980-1cbf-4e98-9494-89c340d0ef0e",
   "metadata": {},
   "source": [
    "### Accessing Tuple Slices"
   ]
  },
  {
   "cell_type": "code",
   "execution_count": 44,
   "id": "c9e51e14-05c6-4623-b0a7-2cc43c6e1e7f",
   "metadata": {},
   "outputs": [
    {
     "name": "stdout",
     "output_type": "stream",
     "text": [
      "First Element: 2\n",
      "Last Element: 5\n"
     ]
    }
   ],
   "source": [
    "let numbers = (1, 2, 3, 4, 5);\n",
    "\n",
    "// Creating a tuple slice with elements 2, 3, and 4\n",
    "let slice = numbers.1..numbers.4;\n",
    "\n",
    "// Accessing elements of the tuple slice\n",
    "let first_element = slice.start;\n",
    "let last_element = slice.end;\n",
    "\n",
    "println!(\"First Element: {}\", first_element);\n",
    "println!(\"Last Element: {}\", last_element);"
   ]
  },
  {
   "cell_type": "markdown",
   "id": "9e5be269-46e3-4f83-9bdf-c65c6b8ae66d",
   "metadata": {},
   "source": [
    "### Tuple as Function Arguments and Return Values"
   ]
  },
  {
   "cell_type": "markdown",
   "id": "92599aa8-e575-4621-aa1e-1bce27d6654b",
   "metadata": {},
   "source": [
    "### Using Tuples as Function Arguments"
   ]
  },
  {
   "cell_type": "code",
   "execution_count": 45,
   "id": "87c1c49a-2b90-457a-bb6a-91ddfe583d29",
   "metadata": {},
   "outputs": [
    {
     "name": "stdout",
     "output_type": "stream",
     "text": [
      "Name: Mahmoud\n",
      "Age: 25\n",
      "Occupation: Software Engineer\n"
     ]
    }
   ],
   "source": [
    "fn print_person_info(person: (&str, i32, &str)) {\n",
    "    let (name, age, occupation) = person;\n",
    "    println!(\"Name: {}\", name);\n",
    "    println!(\"Age: {}\", age);\n",
    "    println!(\"Occupation: {}\", occupation);\n",
    "}\n",
    "\n",
    "let alice_info = (\"Mahmoud\", 25, \"Software Engineer\");\n",
    "\n",
    "// Calling the function with a tuple argument\n",
    "print_person_info(alice_info);"
   ]
  },
  {
   "cell_type": "markdown",
   "id": "29ae74d2-363a-4f2c-846e-d31e9fc487b2",
   "metadata": {},
   "source": [
    "### Returning Tuples from Functions"
   ]
  },
  {
   "cell_type": "code",
   "execution_count": 46,
   "id": "7c7dfccf-6aa5-4144-be76-5c62637d22d1",
   "metadata": {},
   "outputs": [
    {
     "name": "stdout",
     "output_type": "stream",
     "text": [
      "Name: Mahmoud\n",
      "Age: 25\n",
      "Occupation: Software Engineer\n"
     ]
    }
   ],
   "source": [
    "fn get_person_info(id: u32) -> (&'static str, i32, &'static str) {\n",
    "    match id {\n",
    "        1 => (\"Mahmoud\", 25, \"Software Engineer\"),\n",
    "        2 => (\"Prime\", 36, \"Netflix Bro\"),\n",
    "        _ => (\"Unknown\", 0, \"N/A\"),\n",
    "    }\n",
    "}\n",
    "\n",
    "let alice = get_person_info(1);\n",
    "\n",
    "println!(\"Name: {}\", alice.0);\n",
    "println!(\"Age: {}\", alice.1);\n",
    "println!(\"Occupation: {}\", alice.2);"
   ]
  },
  {
   "cell_type": "markdown",
   "id": "07f55ced-4b5d-4878-b329-00a3ac95dec3",
   "metadata": {},
   "source": [
    "### Tuple Variants in Enums"
   ]
  },
  {
   "cell_type": "markdown",
   "id": "8ae0fbbc-1f62-4000-ba91-209aa4295b10",
   "metadata": {},
   "source": [
    "### Creating Enum Variants with Tuples"
   ]
  },
  {
   "cell_type": "code",
   "execution_count": 47,
   "id": "35d318c5-70e0-4216-b977-bcf3fd46aebf",
   "metadata": {},
   "outputs": [
    {
     "name": "stdout",
     "output_type": "stream",
     "text": [
      "Circle with radius: 5\n",
      "Rectangle with length 4 and width 6\n",
      "Triangle with sides 3, 4, and 5\n"
     ]
    },
    {
     "data": {
      "text/plain": [
       "()"
      ]
     },
     "execution_count": 47,
     "metadata": {},
     "output_type": "execute_result"
    }
   ],
   "source": [
    "enum Shape {\n",
    "    Circle(f64),\n",
    "    Rectangle(f64, f64),\n",
    "    Triangle(f64, f64, f64),\n",
    "}\n",
    "\n",
    "let circle = Shape::Circle(5.0);\n",
    "let rectangle = Shape::Rectangle(4.0, 6.0);\n",
    "let triangle = Shape::Triangle(3.0, 4.0, 5.0);\n",
    "\n",
    "// Pattern matching to extract values from enum variants\n",
    "match circle {\n",
    "    Shape::Circle(radius) => println!(\"Circle with radius: {}\", radius),\n",
    "    _ => (),\n",
    "}\n",
    "\n",
    "match rectangle {\n",
    "    Shape::Rectangle(length, width) => println!(\"Rectangle with length {} and width {}\", length, width),\n",
    "    _ => (),\n",
    "}\n",
    "\n",
    "match triangle {\n",
    "    Shape::Triangle(a, b, c) => println!(\"Triangle with sides {}, {}, and {}\", a, b, c),\n",
    "    _ => (),\n",
    "}"
   ]
  },
  {
   "cell_type": "markdown",
   "id": "cf2c4a26-6268-48f9-b848-8120d1df894a",
   "metadata": {},
   "source": [
    "---\n",
    "---"
   ]
  },
  {
   "cell_type": "markdown",
   "id": "0ee14f56-427d-4eeb-b812-b38dd2e2d75b",
   "metadata": {},
   "source": [
    "## Slices"
   ]
  },
  {
   "cell_type": "markdown",
   "id": "fa8e4b23-0272-4a0d-ad6c-59c37664fc14",
   "metadata": {},
   "source": [
    "### Creating Slices"
   ]
  },
  {
   "cell_type": "markdown",
   "id": "6f07ab8f-afee-4ccb-a3e9-73d551eee5de",
   "metadata": {},
   "source": [
    "### Creating a slice from an array"
   ]
  },
  {
   "cell_type": "code",
   "execution_count": 52,
   "id": "1eaa027b-b0c6-454c-95b0-0bbd75c44d32",
   "metadata": {},
   "outputs": [
    {
     "name": "stdout",
     "output_type": "stream",
     "text": [
      "Slice array: [2, 3, 4]\n",
      "Slice vector: [2, 3, 4]\n"
     ]
    },
    {
     "data": {
      "text/plain": [
       "\"Hello\""
      ]
     },
     "execution_count": 52,
     "metadata": {},
     "output_type": "execute_result"
    }
   ],
   "source": [
    "{\n",
    "    // Creating a slice from an array\n",
    "    let arr: [i32; 5] = [1, 2, 3, 4, 5];\n",
    "    let slice_arr: &[i32] = &arr[1..4];\n",
    "    println!(\"Slice array: {:?}\", slice_arr);\n",
    "    \n",
    "    // Creating a slice from a vector\n",
    "    let vec = vec![1, 2, 3, 4, 5];\n",
    "    let slice_vec: &[i32] = &vec[1..4];\n",
    "    println!(\"Slice vector: {:?}\", slice_arr);\n",
    "}\n",
    "// Creating a slice from a string\n",
    "let text: &str = \"Hello, Rust!\";\n",
    "let slice_text: &str = &text[0..5];\n",
    "slice_text"
   ]
  },
  {
   "cell_type": "markdown",
   "id": "73461645-2616-4db8-8eaf-c5b23363075e",
   "metadata": {},
   "source": [
    "### Accessing Slice Elements"
   ]
  },
  {
   "cell_type": "code",
   "execution_count": 54,
   "id": "005dbbae-2682-4277-aa8d-21c3678c6221",
   "metadata": {},
   "outputs": [
    {
     "name": "stdout",
     "output_type": "stream",
     "text": [
      "Element: 20\n",
      "Element: 30\n",
      "Element: 40\n"
     ]
    },
    {
     "data": {
      "text/plain": [
       "()"
      ]
     },
     "execution_count": 54,
     "metadata": {},
     "output_type": "execute_result"
    }
   ],
   "source": [
    "fn main() {\n",
    "    let data: [i32; 5] = [10, 20, 30, 40, 50];\n",
    "    let slice: &[i32] = &data[1..4];\n",
    "\n",
    "    // Accessing elements by index\n",
    "    let second_element = slice[0]; // <1>\n",
    "    let third_element = slice[1];\n",
    "    let fourth_element = slice[2];\n",
    "\n",
    "    // Iterating through the slice\n",
    "    for element in slice.iter() { // <2>\n",
    "        println!(\"Element: {}\", element);\n",
    "    }\n",
    "}\n",
    "main()"
   ]
  },
  {
   "cell_type": "markdown",
   "id": "a50f769b-360f-442f-97c5-196c0a92f7fa",
   "metadata": {},
   "source": [
    "### Modifying Slice Elements"
   ]
  },
  {
   "cell_type": "code",
   "execution_count": 55,
   "id": "fb52ecfd-a65c-4462-9bf2-133b280292a6",
   "metadata": {},
   "outputs": [
    {
     "name": "stdout",
     "output_type": "stream",
     "text": [
      "Data Vector:\n",
      "10\n",
      "99\n",
      "30\n",
      "40\n",
      "50\n",
      "Slice:\n",
      "99\n",
      "30\n",
      "40\n"
     ]
    },
    {
     "data": {
      "text/plain": [
       "()"
      ]
     },
     "execution_count": 55,
     "metadata": {},
     "output_type": "execute_result"
    }
   ],
   "source": [
    "fn modify_data(data: &mut Vec<i32>) {\n",
    "    let slice = &mut data[1..4];\n",
    "    // Modifying elements\n",
    "    slice[0] = 99;\n",
    "\n",
    "    // Simulating adding elements\n",
    "    let new_elements = [60];\n",
    "    data.insert(4, new_elements[0]);\n",
    "\n",
    "    // Simulating removing elements\n",
    "    let _removed_element = data.remove(4);\n",
    "}\n",
    "\n",
    "fn main() {\n",
    "    let mut data: Vec<i32> = vec![10, 20, 30, 40, 50];\n",
    "    modify_data(&mut data);\n",
    "\n",
    "    // Print the data vector\n",
    "    println!(\"Data Vector:\");\n",
    "    for element in &data {\n",
    "        println!(\"{}\", element);\n",
    "    }\n",
    "\n",
    "    // Print the slice\n",
    "    let slice = &mut data[1..4];\n",
    "    println!(\"Slice:\");\n",
    "    for element in slice.iter() {\n",
    "        println!(\"{}\", element);\n",
    "    }\n",
    "}\n",
    "\n",
    "main()"
   ]
  },
  {
   "cell_type": "markdown",
   "id": "60db0ca9-88da-40f3-bb0f-fdb8c2a12948",
   "metadata": {},
   "source": [
    "### Real-World Applications"
   ]
  },
  {
   "cell_type": "markdown",
   "id": "f3eaadba-b665-41f8-8d2e-a86c42b1b45d",
   "metadata": {},
   "source": [
    "### String Manipulation"
   ]
  },
  {
   "cell_type": "code",
   "execution_count": 56,
   "id": "4c613201-0879-4e27-9212-6a222d375db0",
   "metadata": {},
   "outputs": [
    {
     "name": "stdout",
     "output_type": "stream",
     "text": [
      "File extension: txt\n"
     ]
    }
   ],
   "source": [
    "let filename = \"example.txt\";\n",
    "let extension: &str = &filename[filename.len() - 3..];\n",
    "println!(\"File extension: {}\", extension);"
   ]
  },
  {
   "cell_type": "markdown",
   "id": "b4a8390e-4e5d-4a66-b7a9-4bb1d5fbfe35",
   "metadata": {},
   "source": [
    "### Data Processing"
   ]
  },
  {
   "cell_type": "code",
   "execution_count": 62,
   "id": "5a69aec0-9b67-464a-9016-ddf25d1120ab",
   "metadata": {},
   "outputs": [
    {
     "name": "stdout",
     "output_type": "stream",
     "text": [
      "Average: 2.62\n"
     ]
    },
    {
     "data": {
      "text/plain": [
       "()"
      ]
     },
     "execution_count": 62,
     "metadata": {},
     "output_type": "execute_result"
    }
   ],
   "source": [
    "fn calculate_average(slice: &[f64]) -> f64 {\n",
    "    let sum: f64 = slice.iter().sum();\n",
    "    sum / slice.len() as f64\n",
    "}\n",
    "\n",
    "fn main() {\n",
    "    let data: [f64; 6] = [2.5, 3.0, 1.5, 4.0, 2.0, 3.5];\n",
    "    let slice: &[f64] = &data[1..5];\n",
    "    let average = calculate_average(slice);\n",
    "    println!(\"Average: {:.2}\", average);\n",
    "}\n",
    "\n",
    "main()"
   ]
  },
  {
   "cell_type": "markdown",
   "id": "aea8230b-882e-4ad4-a112-86a791a9b21f",
   "metadata": {},
   "source": [
    "### Text Tokenization"
   ]
  },
  {
   "cell_type": "code",
   "execution_count": 59,
   "id": "8f4ddc7b-692b-4e12-a160-580d89b8b331",
   "metadata": {},
   "outputs": [
    {
     "name": "stdout",
     "output_type": "stream",
     "text": [
      "Words: [\"Rust\", \"is\", \"a\", \"systems\", \"programming\", \"language.\"]\n"
     ]
    }
   ],
   "source": [
    "fn tokenize_sentence(sentence: &str) -> Vec<&str> {\n",
    "    sentence.split_whitespace().collect()\n",
    "}\n",
    "\n",
    "let text: &str = \"Rust is a systems programming language.\";\n",
    "let words = tokenize_sentence(text);\n",
    "println!(\"Words: {:?}\", words);"
   ]
  },
  {
   "cell_type": "markdown",
   "id": "18d82a46-c0df-46c1-b5c9-1292e4fba278",
   "metadata": {},
   "source": [
    "### Binary Data Handling"
   ]
  },
  {
   "cell_type": "code",
   "execution_count": 63,
   "id": "e54ddc55-06b7-455c-8889-c4a823cc62e5",
   "metadata": {},
   "outputs": [
    {
     "data": {
      "text/plain": [
       "()"
      ]
     },
     "execution_count": 63,
     "metadata": {},
     "output_type": "execute_result"
    }
   ],
   "source": [
    "fn parse_header(header_data: &[u8]) {\n",
    "    // Parse the binary header data here\n",
    "}\n",
    "\n",
    "fn main() {\n",
    "    let binary_data: [u8; 16] = [0x48, 0x65, 0x6C, 0x6C, 0x6F, 0x2C, 0x20, 0x52, 0x75, 0x73, 0x74, 0x21, 0x00, 0x00, 0x0A, 0x0D];\n",
    "    let header_slice: &[u8] = &binary_data[0..8];\n",
    "    parse_header(header_slice);\n",
    "}\n",
    "\n",
    "main()"
   ]
  },
  {
   "cell_type": "markdown",
   "id": "00f1730a-7bbf-4e2d-9b4a-9a51285f38db",
   "metadata": {},
   "source": [
    "### Memory Mapping"
   ]
  },
  {
   "cell_type": "code",
   "execution_count": 65,
   "id": "1ccf9c1b-af36-4bc5-9635-1498befd68df",
   "metadata": {},
   "outputs": [
    {
     "name": "stdout",
     "output_type": "stream",
     "text": [
      "Read 11 bytes: [72, 101, 108, 108, 111, 10, 87, 111, 114, 108, 100]\n"
     ]
    },
    {
     "data": {
      "text/plain": [
       "Ok(())"
      ]
     },
     "execution_count": 65,
     "metadata": {},
     "output_type": "execute_result"
    }
   ],
   "source": [
    "use std::fs::File;\n",
    "use std::io::{self, Read};\n",
    "\n",
    "fn main() -> io::Result<()> {\n",
    "    let mut file = File::open(\"file.txt\")?;\n",
    "    let mut buffer = [0; 1024];\n",
    "\n",
    "    // Read a portion of the file into a buffer\n",
    "    let bytes_read = file.read(&mut buffer)?;\n",
    "\n",
    "    // Process the buffer as a slice\n",
    "    let slice = &buffer[0..bytes_read];\n",
    "    println!(\"Read {} bytes: {:?}\", bytes_read, slice);\n",
    "\n",
    "    Ok(())\n",
    "}\n",
    "\n",
    "main()"
   ]
  },
  {
   "cell_type": "code",
   "execution_count": null,
   "id": "5d99bac0-21e4-40a4-b6a5-4cde66accffe",
   "metadata": {},
   "outputs": [],
   "source": []
  }
 ],
 "metadata": {
  "kernelspec": {
   "display_name": "Rust",
   "language": "rust",
   "name": "rust"
  },
  "language_info": {
   "codemirror_mode": "rust",
   "file_extension": ".rs",
   "mimetype": "text/rust",
   "name": "Rust",
   "pygment_lexer": "rust",
   "version": ""
  }
 },
 "nbformat": 4,
 "nbformat_minor": 5
}
